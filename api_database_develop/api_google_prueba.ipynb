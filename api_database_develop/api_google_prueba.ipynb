{
 "cells": [
  {
   "cell_type": "code",
   "execution_count": 1,
   "metadata": {},
   "outputs": [
    {
     "name": "stderr",
     "output_type": "stream",
     "text": [
      "c:\\Users\\34640\\Desktop\\practica_3_ALN\\my_env\\Lib\\site-packages\\tqdm\\auto.py:21: TqdmWarning: IProgress not found. Please update jupyter and ipywidgets. See https://ipywidgets.readthedocs.io/en/stable/user_install.html\n",
      "  from .autonotebook import tqdm as notebook_tqdm\n"
     ]
    }
   ],
   "source": [
    "import google.generativeai as genai"
   ]
  },
  {
   "cell_type": "code",
   "execution_count": 1,
   "metadata": {},
   "outputs": [
    {
     "name": "stdout",
     "output_type": "stream",
     "text": [
      "Collecting dotenv\n",
      "  Downloading dotenv-0.0.5.tar.gz (2.4 kB)\n",
      "  Preparing metadata (setup.py): started\n",
      "  Preparing metadata (setup.py): finished with status 'error'\n",
      "Note: you may need to restart the kernel to use updated packages.\n"
     ]
    },
    {
     "name": "stderr",
     "output_type": "stream",
     "text": [
      "  error: subprocess-exited-with-error\n",
      "  \n",
      "  × python setup.py egg_info did not run successfully.\n",
      "  │ exit code: 1\n",
      "  ╰─> [83 lines of output]\n",
      "      c:\\Users\\34640\\Desktop\\practica_3_ALN\\my_env\\Lib\\site-packages\\setuptools\\__init__.py:94: _DeprecatedInstaller: setuptools.installer and fetch_build_eggs are deprecated.\n",
      "      !!\n",
      "      \n",
      "              ********************************************************************************\n",
      "              Requirements should be satisfied by a PEP 517 installer.\n",
      "              If you are using pip, you can try `pip install --use-pep517`.\n",
      "              ********************************************************************************\n",
      "      \n",
      "      !!\n",
      "        dist.fetch_build_eggs(dist.setup_requires)\n",
      "        error: subprocess-exited-with-error\n",
      "      \n",
      "        Ã— python setup.py egg_info did not run successfully.\n",
      "        â”‚ exit code: 1\n",
      "        â•°â”€> [17 lines of output]\n",
      "            Traceback (most recent call last):\n",
      "              File \"<string>\", line 2, in <module>\n",
      "              File \"<pip-setuptools-caller>\", line 14, in <module>\n",
      "              File \"C:\\Users\\34640\\AppData\\Local\\Temp\\pip-wheel-te8uwrya\\distribute_86075c755ff34dfa9215f6ca3dfe1b57\\setuptools\\__init__.py\", line 2, in <module>\n",
      "                from setuptools.extension import Extension, Library\n",
      "              File \"C:\\Users\\34640\\AppData\\Local\\Temp\\pip-wheel-te8uwrya\\distribute_86075c755ff34dfa9215f6ca3dfe1b57\\setuptools\\extension.py\", line 5, in <module>\n",
      "                from setuptools.dist import _get_unpatched\n",
      "              File \"C:\\Users\\34640\\AppData\\Local\\Temp\\pip-wheel-te8uwrya\\distribute_86075c755ff34dfa9215f6ca3dfe1b57\\setuptools\\dist.py\", line 7, in <module>\n",
      "                from setuptools.command.install import install\n",
      "              File \"C:\\Users\\34640\\AppData\\Local\\Temp\\pip-wheel-te8uwrya\\distribute_86075c755ff34dfa9215f6ca3dfe1b57\\setuptools\\command\\__init__.py\", line 8, in <module>\n",
      "                from setuptools.command import install_scripts\n",
      "              File \"C:\\Users\\34640\\AppData\\Local\\Temp\\pip-wheel-te8uwrya\\distribute_86075c755ff34dfa9215f6ca3dfe1b57\\setuptools\\command\\install_scripts.py\", line 3, in <module>\n",
      "                from pkg_resources import Distribution, PathMetadata, ensure_directory\n",
      "              File \"C:\\Users\\34640\\AppData\\Local\\Temp\\pip-wheel-te8uwrya\\distribute_86075c755ff34dfa9215f6ca3dfe1b57\\pkg_resources.py\", line 1518, in <module>\n",
      "                register_loader_type(importlib_bootstrap.SourceFileLoader, DefaultProvider)\n",
      "                                     ^^^^^^^^^^^^^^^^^^^^^^^^^^^^^^^^^^^^\n",
      "            AttributeError: module 'importlib._bootstrap' has no attribute 'SourceFileLoader'\n",
      "            [end of output]\n",
      "      \n",
      "        note: This error originates from a subprocess, and is likely not a problem with pip.\n",
      "      error: metadata-generation-failed\n",
      "      \n",
      "      Ã— Encountered error while generating package metadata.\n",
      "      â•°â”€> See above for output.\n",
      "      \n",
      "      note: This is an issue with the package mentioned above, not pip.\n",
      "      hint: See above for details.\n",
      "      Traceback (most recent call last):\n",
      "        File \"c:\\Users\\34640\\Desktop\\practica_3_ALN\\my_env\\Lib\\site-packages\\setuptools\\installer.py\", line 107, in _fetch_build_egg_no_warn\n",
      "          subprocess.check_call(cmd)\n",
      "        File \"C:\\Program Files\\WindowsApps\\PythonSoftwareFoundation.Python.3.11_3.11.2544.0_x64__qbz5n2kfra8p0\\Lib\\subprocess.py\", line 413, in check_call\n",
      "          raise CalledProcessError(retcode, cmd)\n",
      "      subprocess.CalledProcessError: Command '['c:\\\\Users\\\\34640\\\\Desktop\\\\practica_3_ALN\\\\my_env\\\\Scripts\\\\python.exe', '-m', 'pip', '--disable-pip-version-check', 'wheel', '--no-deps', '-w', 'C:\\\\Users\\\\34640\\\\AppData\\\\Local\\\\Temp\\\\tmpwj5jxfp0', '--quiet', 'distribute']' returned non-zero exit status 1.\n",
      "      \n",
      "      The above exception was the direct cause of the following exception:\n",
      "      \n",
      "      Traceback (most recent call last):\n",
      "        File \"<string>\", line 2, in <module>\n",
      "        File \"<pip-setuptools-caller>\", line 34, in <module>\n",
      "        File \"C:\\Users\\34640\\AppData\\Local\\Temp\\pip-install-sv50mz6d\\dotenv_c971015a1be6425d934b9814509bb9de\\setup.py\", line 13, in <module>\n",
      "          setup(name='dotenv',\n",
      "        File \"c:\\Users\\34640\\Desktop\\practica_3_ALN\\my_env\\Lib\\site-packages\\setuptools\\__init__.py\", line 116, in setup\n",
      "          _install_setup_requires(attrs)\n",
      "        File \"c:\\Users\\34640\\Desktop\\practica_3_ALN\\my_env\\Lib\\site-packages\\setuptools\\__init__.py\", line 89, in _install_setup_requires\n",
      "          _fetch_build_eggs(dist)\n",
      "        File \"c:\\Users\\34640\\Desktop\\practica_3_ALN\\my_env\\Lib\\site-packages\\setuptools\\__init__.py\", line 94, in _fetch_build_eggs\n",
      "          dist.fetch_build_eggs(dist.setup_requires)\n",
      "        File \"c:\\Users\\34640\\Desktop\\practica_3_ALN\\my_env\\Lib\\site-packages\\setuptools\\dist.py\", line 659, in fetch_build_eggs\n",
      "          return _fetch_build_eggs(self, requires)\n",
      "                 ^^^^^^^^^^^^^^^^^^^^^^^^^^^^^^^^^\n",
      "        File \"c:\\Users\\34640\\Desktop\\practica_3_ALN\\my_env\\Lib\\site-packages\\setuptools\\installer.py\", line 44, in _fetch_build_eggs\n",
      "          resolved_dists = pkg_resources.working_set.resolve(\n",
      "                           ^^^^^^^^^^^^^^^^^^^^^^^^^^^^^^^^^^\n",
      "        File \"c:\\Users\\34640\\Desktop\\practica_3_ALN\\my_env\\Lib\\site-packages\\pkg_resources\\__init__.py\", line 892, in resolve\n",
      "          dist = self._resolve_dist(\n",
      "                 ^^^^^^^^^^^^^^^^^^^\n",
      "        File \"c:\\Users\\34640\\Desktop\\practica_3_ALN\\my_env\\Lib\\site-packages\\pkg_resources\\__init__.py\", line 928, in _resolve_dist\n",
      "          dist = best[req.key] = env.best_match(\n",
      "                                 ^^^^^^^^^^^^^^^\n",
      "        File \"c:\\Users\\34640\\Desktop\\practica_3_ALN\\my_env\\Lib\\site-packages\\pkg_resources\\__init__.py\", line 1266, in best_match\n",
      "          return self.obtain(req, installer)\n",
      "                 ^^^^^^^^^^^^^^^^^^^^^^^^^^^\n",
      "        File \"c:\\Users\\34640\\Desktop\\practica_3_ALN\\my_env\\Lib\\site-packages\\pkg_resources\\__init__.py\", line 1302, in obtain\n",
      "          return installer(requirement) if installer else None\n",
      "                 ^^^^^^^^^^^^^^^^^^^^^^\n",
      "        File \"c:\\Users\\34640\\Desktop\\practica_3_ALN\\my_env\\Lib\\site-packages\\setuptools\\installer.py\", line 109, in _fetch_build_egg_no_warn\n",
      "          raise DistutilsError(str(e)) from e\n",
      "      distutils.errors.DistutilsError: Command '['c:\\\\Users\\\\34640\\\\Desktop\\\\practica_3_ALN\\\\my_env\\\\Scripts\\\\python.exe', '-m', 'pip', '--disable-pip-version-check', 'wheel', '--no-deps', '-w', 'C:\\\\Users\\\\34640\\\\AppData\\\\Local\\\\Temp\\\\tmpwj5jxfp0', '--quiet', 'distribute']' returned non-zero exit status 1.\n",
      "      [end of output]\n",
      "  \n",
      "  note: This error originates from a subprocess, and is likely not a problem with pip.\n",
      "error: metadata-generation-failed\n",
      "\n",
      "× Encountered error while generating package metadata.\n",
      "╰─> See above for output.\n",
      "\n",
      "note: This is an issue with the package mentioned above, not pip.\n",
      "hint: See above for details.\n"
     ]
    }
   ],
   "source": [
    "%pip install dotenv"
   ]
  },
  {
   "cell_type": "code",
   "execution_count": 9,
   "metadata": {},
   "outputs": [],
   "source": [
    "from dotenv import load_dotenv\n",
    "import os\n",
    "\n",
    "load_dotenv(\"data/api_key1_google.env\")\n",
    "api_key = os.getenv(\"API_KEY\")"
   ]
  },
  {
   "cell_type": "code",
   "execution_count": 12,
   "metadata": {},
   "outputs": [
    {
     "name": "stdout",
     "output_type": "stream",
     "text": [
      "200\n",
      "{'candidates': [{'content': {'parts': [{'text': 'AI, or Artificial Intelligence, encompasses a broad range of techniques aimed at creating systems capable of performing tasks that typically require human intelligence.  There\\'s no single \"how it works\" because different AI approaches utilize different methods. However, we can categorize them into a few main types:\\n\\n**1. Machine Learning (ML):** This is arguably the most prevalent approach.  Instead of explicitly programming rules, ML algorithms learn from data.  The system is fed vast amounts of data, and it identifies patterns, relationships, and insights to make predictions or decisions.  This learning process can be:\\n\\n* **Supervised Learning:** The data is labeled, meaning the algorithm is told what the correct answer is for each input.  Examples include image classification (labeling images as \"cat\" or \"dog\") and spam detection.\\n* **Unsupervised Learning:** The data is unlabeled, and the algorithm tries to find structure or patterns in the data itself.  Examples include clustering similar data points together and dimensionality reduction (reducing the number of variables while retaining important information).\\n* **Reinforcement Learning:** The algorithm learns through trial and error, receiving rewards for desirable actions and penalties for undesirable ones.  This is commonly used in robotics and game playing.\\n\\n**2. Deep Learning (DL):** A subfield of ML that uses artificial neural networks with multiple layers (hence \"deep\").  These networks are inspired by the structure and function of the human brain, allowing them to learn complex patterns from vast datasets.  Deep learning excels at tasks like image recognition, natural language processing, and speech recognition.  Key components include:\\n\\n* **Neural Networks:**  Interconnected nodes (neurons) organized in layers that process information.  Connections between neurons have weights that are adjusted during the learning process.\\n* **Backpropagation:** An algorithm that adjusts the weights of the connections to minimize errors in the network\\'s predictions.\\n\\n**3. Rule-Based Systems (Expert Systems):**  These systems rely on explicitly programmed rules and knowledge bases.  They use \"if-then\" statements to make decisions based on the input data.  While simpler than ML and DL, they are effective when dealing with well-defined problems with clear rules.\\n\\n**4. Evolutionary Algorithms:** These algorithms mimic the process of natural selection.  They generate a population of potential solutions, evaluate their fitness, and then iteratively improve the solutions based on their fitness scores.  They are useful for optimization problems where the search space is large and complex.\\n\\n\\n**In a nutshell, most modern AI works by:**\\n\\n1. **Data Acquisition:** Gathering large amounts of relevant data.\\n2. **Data Preprocessing:** Cleaning, transforming, and preparing the data for the algorithm.\\n3. **Algorithm Selection:** Choosing the appropriate algorithm based on the problem and data.\\n4. **Training:** Feeding the data to the algorithm, allowing it to learn patterns and relationships.\\n5. **Evaluation:** Assessing the performance of the algorithm on unseen data.\\n6. **Deployment:** Integrating the trained algorithm into a real-world application.\\n\\nIt\\'s important to note that AI is constantly evolving, with new techniques and approaches being developed all the time. The field is interdisciplinary, drawing upon computer science, mathematics, statistics, cognitive science, and linguistics.  Furthermore, the ethical considerations surrounding AI are increasingly important as these systems become more powerful and prevalent in our lives.\\n'}], 'role': 'model'}, 'finishReason': 'STOP', 'avgLogprobs': -0.23957894661365062}], 'usageMetadata': {'promptTokenCount': 4, 'candidatesTokenCount': 698, 'totalTokenCount': 702}, 'modelVersion': 'gemini-1.5-flash'}\n"
     ]
    }
   ],
   "source": [
    "import requests\n",
    "\n",
    "url = f\"https://generativelanguage.googleapis.com/v1beta/models/gemini-1.5-flash:generateContent?key={api_key}\"\n",
    "headers = {\n",
    "    \"Content-Type\": \"application/json\"\n",
    "}\n",
    "data = {\n",
    "    \"contents\": [\n",
    "        {\n",
    "            \"parts\": [\n",
    "                {\"text\": \"Explain how AI works\"}\n",
    "            ]\n",
    "        }\n",
    "    ]\n",
    "}\n",
    "\n",
    "response = requests.post(url, headers=headers, json=data)\n",
    "\n",
    "print(response.status_code)  # Código de respuesta HTTP\n",
    "print(response.json())       # Contenido de la respuesta\n"
   ]
  },
  {
   "cell_type": "code",
   "execution_count": 13,
   "metadata": {},
   "outputs": [
    {
     "name": "stdout",
     "output_type": "stream",
     "text": [
      "AI, or Artificial Intelligence, encompasses a broad range of techniques aimed at creating systems capable of performing tasks that typically require human intelligence.  There's no single \"how it works\" because different AI approaches utilize different methods. However, we can categorize them into a few main types:\n",
      "\n",
      "**1. Machine Learning (ML):** This is arguably the most prevalent approach.  Instead of explicitly programming rules, ML algorithms learn from data.  The system is fed vast amounts of data, and it identifies patterns, relationships, and insights to make predictions or decisions.  This learning process can be:\n",
      "\n",
      "* **Supervised Learning:** The data is labeled, meaning the algorithm is told what the correct answer is for each input.  Examples include image classification (labeling images as \"cat\" or \"dog\") and spam detection.\n",
      "* **Unsupervised Learning:** The data is unlabeled, and the algorithm tries to find structure or patterns in the data itself.  Examples include clustering similar data points together and dimensionality reduction (reducing the number of variables while retaining important information).\n",
      "* **Reinforcement Learning:** The algorithm learns through trial and error, receiving rewards for desirable actions and penalties for undesirable ones.  This is commonly used in robotics and game playing.\n",
      "\n",
      "**2. Deep Learning (DL):** A subfield of ML that uses artificial neural networks with multiple layers (hence \"deep\").  These networks are inspired by the structure and function of the human brain, allowing them to learn complex patterns from vast datasets.  Deep learning excels at tasks like image recognition, natural language processing, and speech recognition.  Key components include:\n",
      "\n",
      "* **Neural Networks:**  Interconnected nodes (neurons) organized in layers that process information.  Connections between neurons have weights that are adjusted during the learning process.\n",
      "* **Backpropagation:** An algorithm that adjusts the weights of the connections to minimize errors in the network's predictions.\n",
      "\n",
      "**3. Rule-Based Systems (Expert Systems):**  These systems rely on explicitly programmed rules and knowledge bases.  They use \"if-then\" statements to make decisions based on the input data.  While simpler than ML and DL, they are effective when dealing with well-defined problems with clear rules.\n",
      "\n",
      "**4. Evolutionary Algorithms:** These algorithms mimic the process of natural selection.  They generate a population of potential solutions, evaluate their fitness, and then iteratively improve the solutions based on their fitness scores.  They are useful for optimization problems where the search space is large and complex.\n",
      "\n",
      "\n",
      "**In a nutshell, most modern AI works by:**\n",
      "\n",
      "1. **Data Acquisition:** Gathering large amounts of relevant data.\n",
      "2. **Data Preprocessing:** Cleaning, transforming, and preparing the data for the algorithm.\n",
      "3. **Algorithm Selection:** Choosing the appropriate algorithm based on the problem and data.\n",
      "4. **Training:** Feeding the data to the algorithm, allowing it to learn patterns and relationships.\n",
      "5. **Evaluation:** Assessing the performance of the algorithm on unseen data.\n",
      "6. **Deployment:** Integrating the trained algorithm into a real-world application.\n",
      "\n",
      "It's important to note that AI is constantly evolving, with new techniques and approaches being developed all the time. The field is interdisciplinary, drawing upon computer science, mathematics, statistics, cognitive science, and linguistics.  Furthermore, the ethical considerations surrounding AI are increasingly important as these systems become more powerful and prevalent in our lives.\n",
      "\n"
     ]
    }
   ],
   "source": [
    "# Acceder al texto\n",
    "text = response.json()['candidates'][0]['content']['parts'][0]['text']\n",
    "\n",
    "# Imprimir el texto\n",
    "print(text)\n"
   ]
  },
  {
   "cell_type": "code",
   "execution_count": null,
   "metadata": {},
   "outputs": [],
   "source": []
  }
 ],
 "metadata": {
  "kernelspec": {
   "display_name": "my_env",
   "language": "python",
   "name": "python3"
  },
  "language_info": {
   "codemirror_mode": {
    "name": "ipython",
    "version": 3
   },
   "file_extension": ".py",
   "mimetype": "text/x-python",
   "name": "python",
   "nbconvert_exporter": "python",
   "pygments_lexer": "ipython3",
   "version": "3.11.9"
  }
 },
 "nbformat": 4,
 "nbformat_minor": 2
}
