{
 "cells": [
  {
   "cell_type": "markdown",
   "metadata": {},
   "source": [
    "vamos a aplicar ahora lso conocimientos adquiridos de la guía básica para desarrollar nuestra versión de la api"
   ]
  },
  {
   "cell_type": "code",
   "execution_count": 2,
   "metadata": {},
   "outputs": [],
   "source": [
    "import json\n",
    "\n",
    "with open(\"data/knowledge_base.json\", \"r\", encoding=\"utf-8\") as file:\n",
    "    database = json.load(file)\n"
   ]
  },
  {
   "cell_type": "code",
   "execution_count": 3,
   "metadata": {},
   "outputs": [
    {
     "data": {
      "text/plain": [
       "dict"
      ]
     },
     "execution_count": 3,
     "metadata": {},
     "output_type": "execute_result"
    }
   ],
   "source": [
    "type(database)"
   ]
  },
  {
   "cell_type": "code",
   "execution_count": 4,
   "metadata": {},
   "outputs": [],
   "source": [
    "import re\n",
    "\n",
    "def preprocess_text(text):\n",
    "    text = re.sub(r'https?://\\S+|www\\.\\S+', '', text)\n",
    "\n",
    "    text = re.sub(r'<[^>]+>', '', text)\n",
    "\n",
    "    text = re.sub(r\"[^a-zA-Z0-9\\u00C0-\\u00FF\\s.,!?;:'-]\", '', text)\n",
    "\n",
    "    text = re.sub(r'\\s+', ' ', text).strip()\n",
    "\n",
    "    return text\n"
   ]
  },
  {
   "cell_type": "code",
   "execution_count": 5,
   "metadata": {},
   "outputs": [
    {
     "data": {
      "text/plain": [
       "'403 Forbidden 403 Forbidden nginx'"
      ]
     },
     "execution_count": 5,
     "metadata": {},
     "output_type": "execute_result"
    }
   ],
   "source": [
    "clean_database = {}\n",
    "for key, value in database.items():\n",
    "    clean_database[key] = preprocess_text(value)\n",
    "\n",
    "clean_database['https://www.psypost.org/new-research-uncovers-atonal-musics-distinct-emotional-and-neural-effects/']"
   ]
  },
  {
   "cell_type": "code",
   "execution_count": 6,
   "metadata": {},
   "outputs": [],
   "source": [
    "#  removed the ones for which we were unable to extract information\n",
    "del clean_database['https://www.ncbi.nlm.nih.gov/pmc/articles/PMC3779798/']\n",
    "del clean_database['https://www.psypost.org/new-research-uncovers-atonal-musics-distinct-emotional-and-neural-effects/']\n",
    "del clean_database['https://online.ucpress.edu/mp/article/40/3/202/195230/The-Perceptual-and-Emotional-Consequences-of']"
   ]
  },
  {
   "cell_type": "code",
   "execution_count": 7,
   "metadata": {},
   "outputs": [
    {
     "name": "stdout",
     "output_type": "stream",
     "text": [
      "dict_keys(['https://www.kennedy-center.org/education/resources-for-educators/classroom-resources/media-and-interactives/media/music/your-brain-on-music/your-brain-on-music/your-brain-on-music-tearjerkers/', 'https://dl.acm.org/doi/fullHtml/10.1145/3461615.3485419', 'https://www.unprofesor.com/musica/tipos-de-cadencia-musical-3912.html?utm_source=chatgpt.com#anchor_1', 'https://eldiaadiariomusica.wordpress.com/2013/06/23/sentido-y-personalidad-de-las-tonalidades/'])\n"
     ]
    }
   ],
   "source": [
    "print(clean_database.keys())"
   ]
  },
  {
   "cell_type": "code",
   "execution_count": 8,
   "metadata": {},
   "outputs": [],
   "source": [
    "with open(\"data/clean_knowledge_base.json\", \"w\", encoding=\"utf-8\") as file:\n",
    "    json.dump(clean_database, file, ensure_ascii=False, indent=4)\n",
    "# lo guardamo"
   ]
  },
  {
   "cell_type": "markdown",
   "metadata": {},
   "source": [
    "#### Vamos a checkear que tal funciona nuestra api para obtener las features necesarias"
   ]
  },
  {
   "cell_type": "code",
   "execution_count": 9,
   "metadata": {},
   "outputs": [],
   "source": [
    "import requests\n",
    "import json\n",
    "from dotenv import load_dotenv\n",
    "import os\n",
    "\n",
    "# loading the craft knowledge database \n",
    "with open(\"data/clean_knowledge_base.json\", \"r\", encoding=\"utf-8\") as file:\n",
    "    data = json.load(file)\n",
    "\n",
    "with open('data/music_modes.json', 'r', encoding=\"utf-8\") as f:\n",
    "    modes = json.load(f)\n"
   ]
  },
  {
   "cell_type": "code",
   "execution_count": 10,
   "metadata": {},
   "outputs": [
    {
     "name": "stdout",
     "output_type": "stream",
     "text": [
      "Today I feel a bit strange, like one of those days when everything is fine but something feels out of place. I am calm, but there is this sense that I could be doing more or feeling more. It's like being on pause, not sad, but not entirely joyful either. I suppose it would be something soft and calm, with a touch of introspection.\n"
     ]
    }
   ],
   "source": [
    "user_text = \"\"\"\n",
    "Today I feel a bit strange, like one of those days when everything is fine but something feels out of place. \n",
    "I am calm, but there is this sense that I could be doing more or feeling more. \n",
    "It's like being on pause, not sad, but not entirely joyful either. \n",
    "I suppose it would be something soft and calm, with a touch of introspection.\n",
    "\"\"\"\n",
    "\n",
    "clean_user_text = preprocess_text(user_text)\n",
    "print(clean_user_text)"
   ]
  },
  {
   "cell_type": "code",
   "execution_count": 26,
   "metadata": {},
   "outputs": [],
   "source": [
    "prompt_base = (\n",
    "    \"You are an expert in music and a psychologist specializing in the relationship between music and emotions. \"\n",
    "    \"Your task is to analyze the text provided by a user, understand the underlying emotional state, and translate it into specific musical characteristics.\\n\\n\"\n",
    "    \"You must return a dict with the following structure, feature_name:  feature_value_given.\\n\\n\"\n",
    "    \"A SPECIFIC VALUE FOR EACH FEATURE MUST BE GIVEN AS A USEFUL VALUE FOR COMPOSING\\n\\n\"\n",
    "    \"If user includes a specific tonality, construct the cadence in orden to satisfy its request\\n\\n\"\n",
    "    \"Extract the following musical features, justifying below the feature dict your choices based on the text:\\n\\n\"\n",
    "    \"1. Tempo: The speed of the music (fast or slow) and how it relates to the described emotional energy.\\n\"\n",
    "    \"2. Intensity/Dynamics: Volume (crescendos, diminuendos) and its connection to perceived tension or calm.\\n\"\n",
    "    \"3. Timbre: The quality of sound (dark or bright) and its influence on the emotional atmosphere.\\n\"\n",
    "    \"4. Rhythm: Rhythmic pattern (regular or irregular) and how it evokes stability or emotional unease.\\n\"\n",
    "    \"5. Harmonic progression: Provide an exact chord progression (e.g., C-G-Am-F or I, IV, V, I) that reflects the emotional state.\\n\"\n",
    "    \"6. Melody: Direction and shape (ascending or descending) and how it reflects joy, sadness, or other emotions.\\n\"\n",
    "    \"7. Tonality/Mode: Key and mode (major, minor, dorian, etc.) and its influence on the emotional color of the text.\\n\"\n",
    "    \"8. Articulation: Playing style (staccato, legato, etc.) and its relationship to the expressiveness described.\\n\"\n",
    "    \"9. Silence: Use of pauses or silences between notes to evoke introspection, suspense, or tranquility.\\n\\n\"\n",
    "    \"After the characteristics, develop a sequence of musical notes (C, A, Eb, ...) in the form of a melody in accordance with the tonality of the cadence you have chosen.\"\n",
    "    \"Additionally, use the provided additional data to enrich your analysis and relate musical characteristics to relevant information. \"\n",
    "    \"Combine your skills in music and emotional psychology to provide a detailed and precise response.\\n\\n\"\n",
    "    \"User's text:\\n{user_text}\\n\\n\"\n",
    "    \"Additional data:\\n{additional_data}\\n\"\n",
    ")"
   ]
  },
  {
   "cell_type": "code",
   "execution_count": 27,
   "metadata": {},
   "outputs": [
    {
     "data": {
      "text/plain": [
       "\"one - Tone - Semitone - Tone - Tone - Tone - Semitone', 'sonority': 'Bright, stable, cheerful.', 'ex\""
      ]
     },
     "execution_count": 27,
     "metadata": {},
     "output_type": "execute_result"
    }
   ],
   "source": [
    "musical_modes = \"\\n\".join([f\"- {key}: {value}\" for key, value in modes.items()])\n",
    "musical_modes[50:150]"
   ]
  },
  {
   "cell_type": "code",
   "execution_count": 28,
   "metadata": {},
   "outputs": [
    {
     "data": {
      "text/plain": [
       "'eractives/media/music/your-brain-on-music/your-brain-on-music/your-brain-on-music-tearjerkers/: Your'"
      ]
     },
     "execution_count": 28,
     "metadata": {},
     "output_type": "execute_result"
    }
   ],
   "source": [
    "knw_data = \"\\n\".join([f\"- {key}: {value}\" for key, value in data.items()])\n",
    "knw_data[100:200]"
   ]
  },
  {
   "cell_type": "code",
   "execution_count": 29,
   "metadata": {},
   "outputs": [],
   "source": [
    "combined_data = knw_data + \"\\n\" + musical_modes"
   ]
  },
  {
   "cell_type": "code",
   "execution_count": 25,
   "metadata": {},
   "outputs": [
    {
     "data": {
      "text/plain": [
       "'es stability or emotional unease.\\n5. Harmonic progression: Provide an exact chord progression (e.g.,'"
      ]
     },
     "execution_count": 25,
     "metadata": {},
     "output_type": "execute_result"
    }
   ],
   "source": [
    "final_prompt = prompt_base.format(user_text=clean_user_text, additional_data=combined_data)\n",
    "final_prompt[1000:1100]"
   ]
  },
  {
   "cell_type": "code",
   "execution_count": 35,
   "metadata": {},
   "outputs": [
    {
     "name": "stdout",
     "output_type": "stream",
     "text": [
      "The user's text describes a state of calm but with an underlying sense of something being \"out of place,\" a feeling of being \"on pause,\" neither sad nor joyful, but introspective. This suggests a gentle, contemplative mood, not overtly emotional but with a subtle undercurrent of something unresolved.\n",
      "\n",
      "Here's a musical interpretation reflecting this emotional state:\n",
      "\n",
      "```json\n",
      "{\n",
      "  \"Tempo\": \"Andante (moderately slow)\",\n",
      "  \"Intensity/Dynamics\": \"Piano to mezzo piano, with subtle crescendos and diminuendos to emphasize introspective moments and create a sense of gentle unfolding.\",\n",
      "  \"Timbre\": \"Warm, mellow timbre. Instruments like a solo cello, acoustic guitar, or a muted trumpet would suit this mood. Avoid harsh or bright timbres.\",\n",
      "  \"Rhythm\": \"Predominantly regular, with occasional subtle rhythmic variations to add interest without disrupting the calm. Simple, even note values.\",\n",
      "  \"Harmonic progression\": \"Am - G - C - F (vi - V - I - IV)  This progression in A minor creates a gentle, melancholic atmosphere, resolving to the tonic (I) but with a touch of unresolved tension through the vi chord and the plagal cadence (IV-I).\",\n",
      "  \"Melody\": \"Mostly descending melodic lines to reflect the feeling of being ‘on pause’. The melody will have a gentle, flowing quality. Occasional slight ascents can be used to represent glimmers of hope or potential.\",\n",
      "  \"Tonality/Mode\": \"A minor (Aeolian mode). The A minor key provides the melancholic yet peaceful background that suits the described introspection. The Aeolian mode is especially appropriate because it mirrors the subtle sense of incompleteness within the emotional state.\",\n",
      "  \"Articulation\": \"Legato (smooth, connected notes) for most of the piece to emphasize the calm and introspection. Occasional slight use of staccato (short, detached notes) could punctuate introspective moments.\",\n",
      "  \"Silence\": \"Strategic use of rests within the melody and harmony, creating space for reflection. This will allow the listener to take in and digest the emotions conveyed by the music.\"\n",
      "}\n",
      "```\n",
      "\n",
      "**Justification of Choices:**\n",
      "\n",
      "* **Tempo:** Andante reflects the calm and unhurried nature of the emotional state. A fast tempo would contradict the sense of being \"on pause.\"\n",
      "\n",
      "* **Intensity/Dynamics:** The soft dynamics (piano to mezzo piano) and subtle variations maintain the gentle atmosphere while adding emotional depth.\n",
      "\n",
      "* **Timbre:** Warm, mellow timbres contribute to a sense of peace and contemplation.\n",
      "\n",
      "* **Rhythm:**  The mostly regular rhythm creates stability, reflecting the calm; subtle variations avoid monotony.\n",
      "\n",
      "* **Harmonic progression:** The chosen progression in A minor creates a melancholic, yet resolving harmony, fitting the introspective and somewhat unresolved emotional state. The plagal cadence adds a subtle feeling of quiet contemplation.\n",
      "\n",
      "* **Melody:** Descending melodies mirror the feeling of being \"on pause\" or in a state of quiet contemplation.\n",
      "\n",
      "* **Tonality/Mode:** A minor (Aeolian mode) evokes the underlying subtle melancholia but avoids a dramatic or overwhelming sadness.\n",
      "\n",
      "* **Articulation:**  Legato creates a smooth, contemplative flow; occasional staccato adds a touch of emphasis.\n",
      "\n",
      "* **Silence:**  Pauses allow the music to breathe and enhance the introspective nature of the piece.\n",
      "\n",
      "\n",
      "**Melody Example (in A minor):**\n",
      "\n",
      "A - G - F - E - D - C - A  A - G - F - E - D - C - B - A\n",
      "\n",
      "\n",
      "This is just a starting point; a full composition would involve a more complex development of these themes and features to build a more complete and varied musical narrative.  The specific choice of A minor was made due to the listener expressing an openness to soft and calm music with a touch of introspection, and A minor's inherent sadness, without being aggressively melancholic, is a perfect fit.  The harmonic progression and suggested melody then follow logically from this tonal center.\n",
      "\n"
     ]
    }
   ],
   "source": [
    "payload = {\n",
    "    \"contents\": [\n",
    "        {\n",
    "            \"parts\": [{\"text\": final_prompt}]\n",
    "        }\n",
    "    ]\n",
    "}\n",
    "\n",
    "load_dotenv(\"data/api_key1_google.env\")\n",
    "api_key = os.getenv(\"API_KEY\") #set de api key\n",
    "\n",
    "url = f\"https://generativelanguage.googleapis.com/v1beta/models/gemini-1.5-flash:generateContent?key={api_key}\"\n",
    "headers = {\"Content-Type\": \"application/json\"}\n",
    "\n",
    "#snd the request\n",
    "response = requests.post(url, headers=headers, json=payload)\n",
    "\n",
    "#proocess the response\n",
    "if response.status_code == 200:\n",
    "    result = response.json()\n",
    "    print(result['candidates'][0]['content']['parts'][0]['text'])\n",
    "else:\n",
    "    print(f\"Error {response.status_code}: {response.json()}\")"
   ]
  },
  {
   "cell_type": "markdown",
   "metadata": {},
   "source": [
    "obtenemos una respuesta bastante contundente parece ser. Nos da una base en la que probar a construir una pequeña melodía"
   ]
  },
  {
   "cell_type": "markdown",
   "metadata": {},
   "source": [
    "vamos a probar con otros textos de distintos usuarios a ver que dice"
   ]
  },
  {
   "cell_type": "code",
   "execution_count": 30,
   "metadata": {},
   "outputs": [],
   "source": [
    "user_text_depressed = \"\"\"\n",
    "It's one of those days where everything feels heavy, like I'm sinking into myself. \n",
    "Even the smallest things seem pointless, and no matter what I do, it feels like there's no real way out. \n",
    "There's this emptiness that just sits there, quiet but overwhelming. \n",
    "If it were music, it would be slow and haunting, something that pulls you deeper with every note.\n",
    "\"\"\"\n",
    "clean_depressed_text = preprocess_text(user_text_depressed)"
   ]
  },
  {
   "cell_type": "code",
   "execution_count": 31,
   "metadata": {},
   "outputs": [],
   "source": [
    "final_prompt_depressed = prompt_base.format(user_text=clean_depressed_text, additional_data=combined_data)"
   ]
  },
  {
   "cell_type": "code",
   "execution_count": 32,
   "metadata": {},
   "outputs": [
    {
     "name": "stdout",
     "output_type": "stream",
     "text": [
      "Based on the user's text, describing a feeling of heaviness, sinking, pointlessness, and overwhelming emptiness, and the desire for music that is \"slow and haunting,\"  the emotional state points towards profound sadness and possibly depression. The additional data reinforces the connection between minor keys and sadness in Western music.\n",
      "\n",
      "Here's a musical interpretation translated into specific musical characteristics:\n",
      "\n",
      "```json\n",
      "{\n",
      "  \"Tempo\": \"Adagio (40-60 bpm)\",\n",
      "  \"Intensity/Dynamics\": \"Piano to pianissimo with occasional, subtle crescendos towards the end of phrases, then diminuendos back to pianissimo.  A gradual crescendo throughout the piece could also work, building the sense of being overwhelmed.\",\n",
      "  \"Timbre\": \"Dark, somber. Instruments like cello, viola, double bass, and low-register woodwinds (bassoon, clarinet) would be suitable.  Avoid bright, high-pitched instruments.\",\n",
      "  \"Rhythm\": \"Irregular, with some syncopation to further enhance the feeling of unease and the lack of stability.  Simple, repetitive rhythmic patterns may be used, but with variations to maintain the slow, brooding atmosphere\",\n",
      "  \"Harmonic progression\": \"Am - F - C - G - Am - Em - F - E7 - Am (vi - IV - i - V - vi - iii - IV - V7 - vi). This progression features a strong use of minor chords and a deceptive cadence (E7 to Am instead of to Am) to prolong the sense of resolution.\",\n",
      "  \"Melody\": \"Primarily descending, with occasional brief upward leaps that immediately descend again, creating a feeling of momentary hope quickly dashed. The overall shape should be arching downwards.\",\n",
      "  \"Tonality/Mode\": \"A minor (Aeolian mode). The Aeolian mode is naturally melancholic and reinforces the feeling of sadness and emptiness.\",\n",
      "  \"Articulation\": \"Legato (smooth and connected) for most of the piece to convey the overwhelming and continuous nature of the emotions.  Occasional staccato notes can be used for emphasis on specific moments of despair.\",\n",
      "  \"Silence\": \"Significant use of rests, particularly at the end of phrases to allow for emotional introspection.  Longer pauses might be incorporated to amplify feelings of emptiness and isolation.\"\n",
      "}\n",
      "```\n",
      "\n",
      "**Justification of Choices:**\n",
      "\n",
      "* **Tempo:**  The slow tempo (\"Adagio\") reflects the heaviness and slow pace of the described emotional experience.\n",
      "* **Intensity/Dynamics:** The quiet dynamics (piano to pianissimo) convey the quiet yet overwhelming nature of the emptiness. Subtle crescendos and diminuendos create a sense of emotional ebb and flow without disrupting the overall somber mood.\n",
      "* **Timbre:** Dark timbres reinforce the sadness and sense of heaviness.  The instruments chosen are known for their expressive capacity in conveying melancholic emotions.\n",
      "* **Rhythm:** The irregular rhythm mirrors the emotional instability and lack of escape described.\n",
      "* **Harmonic progression:** The chosen progression in A minor uses mostly minor chords, creating a somber atmosphere. The deceptive cadence creates a sense of unresolved tension, reinforcing the feeling of being trapped.\n",
      "* **Melody:** Descending melodies typically express sadness and loss;  the brief upward leaps and immediate descents create a feeling of fleeting hope and subsequent despair.\n",
      "* **Tonality/Mode:** A minor (Aeolian mode) is inherently melancholic, aligning with the text's emotional content.\n",
      "* **Articulation:** Legato playing creates a seamless flow that mirrors the uninterrupted nature of the emotional state.  Staccato notes can serve as punctuation for emotional emphasis.\n",
      "* **Silence:** Pauses and rests are crucial for creating space for emotional reflection and highlighting the emptiness.\n",
      "\n",
      "\n",
      "**Example Melody (in A minor):**\n",
      "\n",
      "A - G - F - E - D - C - E - D - C - B - A\n",
      "\n",
      "This short melody demonstrates a descending line, characteristic of sadness.  The notes could be sustained (legato) with a slow tempo and quiet dynamic.  The repetition of C and D could represent the struggle for something better before falling further into sadness, followed by the final descending line.  This melody can be extended and developed using the given harmonic progression, adding rests and variations to create a more complete composition.  The key would be to keep the melody relatively simple in order to allow the overall atmosphere and the harmonic progression to shape the listener's emotional response.\n",
      "\n"
     ]
    }
   ],
   "source": [
    "payload = {\n",
    "    \"contents\": [\n",
    "        {\n",
    "            \"parts\": [{\"text\": final_prompt_depressed}]\n",
    "        }\n",
    "    ]\n",
    "}\n",
    "\n",
    "load_dotenv(\"data/api_key1_google.env\")\n",
    "api_key = os.getenv(\"API_KEY\") #set de api key\n",
    "\n",
    "url = f\"https://generativelanguage.googleapis.com/v1beta/models/gemini-1.5-flash:generateContent?key={api_key}\"\n",
    "headers = {\"Content-Type\": \"application/json\"}\n",
    "\n",
    "#snd the request\n",
    "response = requests.post(url, headers=headers, json=payload)\n",
    "\n",
    "#proocess the response\n",
    "if response.status_code == 200:\n",
    "    result = response.json()\n",
    "    print(result['candidates'][0]['content']['parts'][0]['text'])\n",
    "else:\n",
    "    print(f\"Error {response.status_code}: {response.json()}\")"
   ]
  },
  {
   "cell_type": "code",
   "execution_count": 33,
   "metadata": {},
   "outputs": [
    {
     "data": {
      "text/plain": [
       "'Today feels bright, like the world has this gentle glow to it. Everything seems to fit, and even small things bring a kind of quiet happiness. If I could describe it as music, it would be in B-flat major, with a light and playful melody, something that lifts you up and keeps you smiling.'"
      ]
     },
     "execution_count": 33,
     "metadata": {},
     "output_type": "execute_result"
    }
   ],
   "source": [
    "user_text_joyful = \"\"\"\n",
    "Today feels bright, like the world has this gentle glow to it. \n",
    "Everything seems to fit, and even small things bring a kind of quiet happiness. \n",
    "If I could describe it as music, it would be in B-flat major, with a light and playful melody, something that lifts you up and keeps you smiling.\n",
    "\"\"\"\n",
    "\n",
    "clean_joy_text = preprocess_text(user_text_joyful)\n",
    "clean_joy_text"
   ]
  },
  {
   "cell_type": "code",
   "execution_count": 42,
   "metadata": {},
   "outputs": [
    {
     "name": "stdout",
     "output_type": "stream",
     "text": [
      "The user's text describes a feeling of bright, gentle joy and contentment, even in small things.  The specified tonality of B-flat major strongly supports this emotional description.  Major keys are generally associated with happiness and optimism in Western musical traditions. The description of a \"light and playful melody\" further reinforces the positive emotional state.\n",
      "\n",
      "Here's a breakdown of the musical characteristics based on the text and additional data:\n",
      "\n",
      "\n",
      "```json\n",
      "{\n",
      "  \"Tempo\": \"Andante (moderately slow)\",\n",
      "  \"Intensity/Dynamics\": \"mf (moderately loud) with occasional pianissimo (very soft) passages for emphasis and contrast.\",\n",
      "  \"Timbre\": \"Bright, clear timbre.  Suitable instruments might include flute, glockenspiel, strings (violins, cellos), perhaps a light piano\",\n",
      "  \"Rhythm\": \"Mostly regular, but with some subtle rhythmic variation to avoid monotony.  A predominantly triple meter (e.g., 3/4) could create a sense of gentle flow and grace\",\n",
      "  \"Harmonic progression\": \"I - IV - V - I (Bbmaj - Ebmaj - Fmaj - Bbmaj)  This is a common and satisfying progression in B-flat major, providing a sense of resolution and closure. \",\n",
      "  \"Melody\": \"Primarily stepwise motion with some leaps for interest, predominantly ascending and gently arcing, reflecting a feeling of uplift and joy.  Avoids large, jarring leaps to maintain the gentle quality.\",\n",
      "  \"Tonality/Mode\": \"B-flat major (Ionian mode).  The user explicitly requests this key, and its major tonality perfectly aligns with the bright and happy emotional description.\",\n",
      "  \"Articulation\": \"Legato (smooth and connected) playing style to enhance the gentle quality, with occasional staccato (short, detached) notes for emphasis and contrast.\",\n",
      "  \"Silence\": \"Occasional brief rests to allow for a subtle breathing space and to highlight certain notes or phrases. This can enhance emotional impact and prevents the music from becoming overly sugary.\"\n",
      "}\n",
      "```\n",
      "\n",
      "**Justification:**\n",
      "\n",
      "* **Tempo:**  \"Andante\" suggests a moderate tempo, neither too rushed nor too slow, reflecting the calm yet joyful energy.  A faster tempo might feel frantic, while a slower tempo could be too melancholic.\n",
      "\n",
      "* **Intensity/Dynamics:** A moderately loud intensity (mf) provides a generally upbeat feel, but the dynamic variation (pianissimo) adds depth and allows the listener to reflect on the feeling, creating a dynamic and interesting soundscape.\n",
      "\n",
      "* **Timbre:** Bright timbres create a feeling of openness and happiness. Instruments like the flute and glockenspiel contribute to this. Using a light piano would enhance both the positive and gentle vibes.\n",
      "\n",
      "* **Rhythm:**  A regular rhythm provides stability, while subtle variations avoid predictability. Triple meter (like a waltz) further adds to the gentle, flowing character.\n",
      "\n",
      "* **Harmonic progression:** The I-IV-V-I progression is a fundamental cadence in Western music, providing a sense of resolution and complete satisfaction, matching the contentment described.\n",
      "\n",
      "* **Melody:** Ascending melodic lines generally evoke positive emotions; stepwise motion maintains the gentle quality.\n",
      "\n",
      "* **Tonality/Mode:**  The user's explicit choice of B-flat major is essential. Major keys often convey happiness, joy, and optimism.\n",
      "\n",
      "* **Articulation:** Legato emphasizes the smooth and flowing nature of the emotion, while staccato adds a touch of playful emphasis.\n",
      "\n",
      "* **Silence:**  Brief pauses emphasize particular notes, enhancing the emotional impact without disrupting the overall flow.\n",
      "\n",
      "\n",
      "\n",
      "**Melody Example (in B-flat major):**\n",
      "\n",
      "Bb4 - C5 - D5 - Eb5 - D5 - C5 - Bb4 - A4 - G4 - F4 - Eb4 - D4 - Bb4\n",
      "\n",
      "\n",
      "This melody is stepwise in a smooth motion, with a gentle upward curve at the beginning, which moves downwards to rest softly in B-flat.  It follows the principles of a bright, joyful, and calm melody in the described tonality. Remember that this is a very rudimentary example; a full composition would involve further development and variation.\n",
      "\n"
     ]
    }
   ],
   "source": [
    "final_prompt_joy = prompt_base.format(user_text=clean_joy_text, additional_data=combined_data)\n",
    "\n",
    "payload = {\n",
    "    \"contents\": [\n",
    "        {\n",
    "            \"parts\": [{\"text\": final_prompt_joy}]\n",
    "        }\n",
    "    ]\n",
    "}\n",
    "\n",
    "load_dotenv(\"data/api_key1_google.env\")\n",
    "api_key = os.getenv(\"API_KEY\") #set de api key\n",
    "\n",
    "url = f\"https://generativelanguage.googleapis.com/v1beta/models/gemini-1.5-flash:generateContent?key={api_key}\"\n",
    "headers = {\"Content-Type\": \"application/json\"}\n",
    "\n",
    "#snd the request\n",
    "response = requests.post(url, headers=headers, json=payload)\n",
    "\n",
    "#proocess the response\n",
    "if response.status_code == 200: #oood traffic\n",
    "    result = response.json()\n",
    "    print(result['candidates'][0]['content']['parts'][0]['text'])\n",
    "else:\n",
    "    print(f\"Error {response.status_code}: {response.json()}\")\n"
   ]
  },
  {
   "cell_type": "markdown",
   "metadata": {},
   "source": [
    "ya hemos demostrado que funciona más o menos como espérabamos, con un claro margen de depuración y mejora.\n",
    "\n",
    "vamos a modificar un pequeño detalle para que tú como usuario seas quien lo pruebe"
   ]
  },
  {
   "cell_type": "code",
   "execution_count": 34,
   "metadata": {},
   "outputs": [],
   "source": [
    "# try it!!!\n",
    "\n",
    "user_text = input('Please enter your text about how you are feeling currently : ')\n",
    "\n",
    "while not user_text.strip():\n",
    "    user_text = input(\"Text cannot be empty. Please enter your text: \")\n",
    "\n",
    "final_prompt= prompt_base.format(user_text=user_text, additional_data=combined_data)\n"
   ]
  },
  {
   "cell_type": "code",
   "execution_count": 36,
   "metadata": {},
   "outputs": [
    {
     "name": "stdout",
     "output_type": "stream",
     "text": [
      "im feelling a little bit odd, it seems that it doesnt matter how much effort i apply into studing i will never manage to live up to the expectations people have aboutme. Im tired y just want to relax and stop thinking\n"
     ]
    }
   ],
   "source": [
    "print(user_text)"
   ]
  },
  {
   "cell_type": "code",
   "execution_count": 37,
   "metadata": {},
   "outputs": [],
   "source": [
    "# remember you should have run the code cells above for loading the prompt and the data\n",
    "\n",
    "api_key = input(\"introduce your own API key to try it :) -> \").strip() #get yours in https://aistudio.google.com/app/apikey\n",
    "\n",
    "if not api_key:\n",
    "    raise ValueError(\"API key processed as an empty value, try again\")"
   ]
  },
  {
   "cell_type": "code",
   "execution_count": 38,
   "metadata": {},
   "outputs": [
    {
     "name": "stdout",
     "output_type": "stream",
     "text": [
      "Based on the user's text and the provided additional data, here's an analysis translating the emotional state into musical characteristics:\n",
      "\n",
      "**Musical Characteristics:**\n",
      "\n",
      "```json\n",
      "{\n",
      "  \"Tempo\": \"Adagio (40-60 bpm)\",\n",
      "  \"Intensity/Dynamics\": \"Pianissimo to mezzo piano, with occasional diminuendos to silence.  A slow crescendo towards the end, then a sudden diminuendo back to silence.\",\n",
      "  \"Timbre\": \"Dark, somber. Instruments like cello, viola, bass clarinet, or low strings would be appropriate.  Avoid bright, high-pitched instruments.\",\n",
      "  \"Rhythm\": \"Irregular, with some rubato (flexible tempo) to emphasize the feeling of sinking and unease.  Simple, repetitive rhythmic figures could be used to create a sense of weight and monotony.\",\n",
      "  \"Harmonic progression\": \"Am - F - C - G - Am (vi - iv - i - V - vi) in A minor. This progression emphasizes the feeling of unresolved tension and longing.\",\n",
      "  \"Melody\": \"Predominantly descending, with long, sustained notes and mournful intervals. Occasional brief upward melodic fragments could represent fleeting moments of hope or struggle before sinking back down.\",\n",
      "  \"Tonality/Mode\": \"A minor. The minor key is inherently melancholic and reflects the feeling of heaviness and emptiness.\",\n",
      "  \"Articulation\": \"Legato (smooth, connected notes) for the most part to convey the sense of being weighed down.  Occasional staccato notes could be used to break the monotony and represent moments of sharp pain or awareness of the situation.\",\n",
      "  \"Silence\": \"Significant use of rests and pauses between phrases to create a feeling of emptiness, introspection, and suspense.  Silences should be longer than the notes themselves.\"\n",
      "}\n",
      "```\n",
      "\n",
      "**Justification:**\n",
      "\n",
      "1. **Tempo:** The text explicitly mentions \"slow and haunting\" music, directly indicating a slow tempo like Adagio.  The feeling of \"sinking\" suggests a gradual, deliberate pace.\n",
      "\n",
      "2. **Intensity/Dynamics:** The \"quiet but overwhelming\" emptiness points to a predominantly low dynamic range (pianissimo to mezzo piano). Diminuendos to near silence represent the feeling of hopelessness, and a brief crescendo reflects a struggle for hope.  The text emphasizes the overwhelming nature of the emptiness, even though it's quiet.\n",
      "\n",
      "3. **Timbre:** The words \"heavy\" and \"haunting\" suggest a dark and somber timbre. Instruments known for their somber qualities like cello and low strings are used to deepen the feeling of the piece.\n",
      "\n",
      "4. **Rhythm:** The sense of being \"weighed down\" and the lack of a \"way out\" imply an irregular, less stable rhythm.  Repetitive elements, however, could mirror the sense of monotony and pointlessness.\n",
      "\n",
      "5. **Harmonic progression:** The A minor tonality is suitable to reflect sadness and heaviness. The progression Am - F - C - G - Am (vi - iv - i - V - vi) avoids a clear resolution on the tonic (I), mimicking the feeling of being trapped in a negative emotional state.  The use of a minor key generally represents sadness and melancholy.\n",
      "\n",
      "6. **Melody:** The description of \"pulling you deeper with every note\" suggests predominantly descending melodic lines.  Short ascending figures represent struggle.\n",
      "\n",
      "7. **Tonality/Mode:** A minor is the most fitting key, conveying the overall sadness and sense of despair within the text.\n",
      "\n",
      "8. **Articulation:** The legato articulation reflects the \"sinking\" sensation of the text, with occasional staccato notes to signify brief moments of struggle.\n",
      "\n",
      "9. **Silence:**  The \"emptiness\" described requires significant pauses to evoke the feeling of emptiness and introspection.  Pauses can enhance the feeling of tension and release.\n",
      "\n",
      "\n",
      "**Melody Example (in A minor):**\n",
      "\n",
      "This is a very basic example and would need further development:\n",
      "\n",
      "A - G - F - E - D - C - E - D - C - A - (rest) - A - G - F - E - (rest) - A - C - E\n",
      "\n",
      "\n",
      "This melody emphasizes descending stepwise motion and uses longer notes for melancholy. The rest create the necessary \"emptiness.\"  Remember this is just a rudimentary sketch, a full composition would require far more detail and complexity. The key is A minor, and the melody follows the characteristics described above to reflect the emotional state of the text.\n",
      "\n"
     ]
    }
   ],
   "source": [
    "# load_dotenv(\"data/api_key1_google.env\") #this is our api_key (must be private and unshared), get yours in https://aistudio.google.com/app/apikey\n",
    "# api_key = os.getenv(\"API_KEY\") #set de api key\n",
    "\n",
    "url = f\"https://generativelanguage.googleapis.com/v1beta/models/gemini-1.5-flash:generateContent?key={api_key}\"\n",
    "headers = {\"Content-Type\": \"application/json\"}\n",
    "\n",
    "#snd the request\n",
    "response = requests.post(url, headers=headers, json=payload)\n",
    "\n",
    "#proocess the response\n",
    "if response.status_code == 200: #oood traffic\n",
    "    result = response.json()\n",
    "    print(result['candidates'][0]['content']['parts'][0]['text'])\n",
    "else:\n",
    "    print(f\"Error {response.status_code}: {response.json()}\")"
   ]
  },
  {
   "cell_type": "code",
   "execution_count": null,
   "metadata": {},
   "outputs": [],
   "source": []
  }
 ],
 "metadata": {
  "kernelspec": {
   "display_name": "my_env",
   "language": "python",
   "name": "python3"
  },
  "language_info": {
   "codemirror_mode": {
    "name": "ipython",
    "version": 3
   },
   "file_extension": ".py",
   "mimetype": "text/x-python",
   "name": "python",
   "nbconvert_exporter": "python",
   "pygments_lexer": "ipython3",
   "version": "3.11.9"
  }
 },
 "nbformat": 4,
 "nbformat_minor": 2
}
