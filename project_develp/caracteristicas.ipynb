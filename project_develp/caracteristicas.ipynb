{
 "cells": [
  {
   "cell_type": "code",
   "execution_count": 1,
   "metadata": {},
   "outputs": [
    {
     "name": "stdout",
     "output_type": "stream",
     "text": [
      "Numpy version: 1.26.4\n",
      "Librosa version: 0.10.2.post1\n",
      "Matplotlib version: 3.10.0\n",
      "Pandas version: 2.2.3\n"
     ]
    }
   ],
   "source": [
    "import numpy as np\n",
    "import librosa\n",
    "import matplotlib\n",
    "import pandas as pd\n",
    "\n",
    "print(f\"Numpy version: {np.__version__}\")\n",
    "print(f\"Librosa version: {librosa.__version__}\")\n",
    "print(f\"Matplotlib version: {matplotlib.__version__}\")\n",
    "print(f\"Pandas version: {pd.__version__}\")\n"
   ]
  },
  {
   "cell_type": "code",
   "execution_count": 2,
   "metadata": {},
   "outputs": [
    {
     "data": {
      "text/plain": [
       "'data/MEMD_audio/2.mp3'"
      ]
     },
     "execution_count": 2,
     "metadata": {},
     "output_type": "execute_result"
    }
   ],
   "source": [
    "audio_prueba = 'data/MEMD_audio/2.mp3'\n",
    "audio_prueba"
   ]
  },
  {
   "cell_type": "code",
   "execution_count": 3,
   "metadata": {},
   "outputs": [
    {
     "name": "stdout",
     "output_type": "stream",
     "text": [
      "Audio cargado correctamente. Duración: 45.06 segundos, Frecuencia de muestreo: 44100 Hz\n"
     ]
    }
   ],
   "source": [
    "try:\n",
    "    y, sr = librosa.load(audio_prueba, sr=None)  \n",
    "    print(f\"Audio cargado correctamente. Duración: {len(y)/sr:.2f} segundos, Frecuencia de muestreo: {sr} Hz\")\n",
    "except Exception as e:\n",
    "    print(f\"Error al cargar el archivo: {e}\")\n"
   ]
  }
 ],
 "metadata": {
  "kernelspec": {
   "display_name": "my_env",
   "language": "python",
   "name": "python3"
  },
  "language_info": {
   "codemirror_mode": {
    "name": "ipython",
    "version": 3
   },
   "file_extension": ".py",
   "mimetype": "text/x-python",
   "name": "python",
   "nbconvert_exporter": "python",
   "pygments_lexer": "ipython3",
   "version": "3.11.9"
  }
 },
 "nbformat": 4,
 "nbformat_minor": 2
}
